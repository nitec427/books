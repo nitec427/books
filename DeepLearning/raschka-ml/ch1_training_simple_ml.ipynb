{
 "cells": [
  {
   "cell_type": "code",
   "execution_count": null,
   "metadata": {},
   "outputs": [
    {
     "ename": "",
     "evalue": "",
     "output_type": "error",
     "traceback": [
      "\u001b[1;31mFailed to start the Kernel. \n",
      "\u001b[1;31mKernel Python 3.10.4 64-bit is not usable. Check the Jupyter output tab for more information. \n",
      "\u001b[1;31mView Jupyter <a href='command:jupyter.viewOutput'>log</a> for further details."
     ]
    }
   ],
   "source": [
    "# Object Oriented approach for Perceptron in Python"
   ]
  },
  {
   "cell_type": "code",
   "execution_count": 1,
   "metadata": {},
   "outputs": [],
   "source": [
    "import numpy as np"
   ]
  },
  {
   "cell_type": "markdown",
   "metadata": {},
   "source": [
    "### The perceptron learning rule"
   ]
  },
  {
   "cell_type": "code",
   "execution_count": null,
   "metadata": {},
   "outputs": [],
   "source": [
    "import numpy.typing as nptype\n",
    "\n",
    "class Perceptron:\n",
    "    \n",
    "    \"\"\"\n",
    "    Perceptron classifier.\n",
    "    \n",
    "    Params\n",
    "    ------\n",
    "    lr: float (learning rate)\n",
    "        Learning rate (between [0,1])\n",
    "    n_iter: int\n",
    "        Passes over the training set\n",
    "    random_state: int\n",
    "        Seed for random num generator for weight init\n",
    "        \n",
    "    Attributes\n",
    "    ----------\n",
    "    w_: 1-D array\n",
    "        Weights after fitting\n",
    "    b_: scalar\n",
    "        Bias unit after fitting\n",
    "    errors_ : list\n",
    "        Num of misclassification at each epoch\n",
    "    \n",
    "    \"\"\"\n",
    "    \n",
    "    def __init__(self, lr = 0.01, n_iter = 50, random_state=1):\n",
    "        self.lr = lr\n",
    "        self.n_iter = n_iter\n",
    "        self.random_state = random_state\n",
    "        \n",
    "    def fit(self, X: nptype.NDArray, y):\n",
    "        \n",
    "        py_gen = np.random.RandomState(self.random_state)\n",
    "        \n",
    "        self.w_ = py_gen.normal(loc = 0.0, scale = 0.01, size = X.shape[1])    \n",
    "        self.b_ = np.float_(0.)\n",
    "        \n",
    "        self.errors_ = []\n",
    "        \n",
    "        for _ in range(self.n_iter):\n",
    "            errors = 0\n",
    "            for x_i, target in zip(X,y):\n",
    "                update = self.lr * (target - self.predict(x_i))\n",
    "                \n",
    "                self.w_ += update * x_i\n",
    "                self.b_ += update\n",
    "                \n",
    "                errors += int(update != 0.0)\n",
    "            self.errors_.append(errors)\n",
    "        return self\n",
    "    \n",
    "    def net_input(self, X):\n",
    "        \"\"\"Calculate net input\"\"\"\n",
    "        return np.dot(X, self.w_) + self.b_\n",
    "    \n",
    "    def predict(self, X):\n",
    "        return np.where(self.net_input(X)>=0.0, 1,0)"
   ]
  }
 ],
 "metadata": {
  "kernelspec": {
   "display_name": "Python 3.9.13 ('tensorflow')",
   "language": "python",
   "name": "python3"
  },
  "language_info": {
   "codemirror_mode": {
    "name": "ipython",
    "version": 3
   },
   "file_extension": ".py",
   "mimetype": "text/x-python",
   "name": "python",
   "nbconvert_exporter": "python",
   "pygments_lexer": "ipython3",
   "version": "3.9.13"
  },
  "orig_nbformat": 4,
  "vscode": {
   "interpreter": {
    "hash": "b0e812275e83c09a72f2127d9b05dd0efb0d2a1d9acc3411b3bf621e76bbbed6"
   }
  }
 },
 "nbformat": 4,
 "nbformat_minor": 2
}
